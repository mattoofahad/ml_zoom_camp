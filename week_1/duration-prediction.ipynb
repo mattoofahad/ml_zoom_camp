{
 "cells": [
  {
   "cell_type": "code",
   "execution_count": 1,
   "id": "41062d8a",
   "metadata": {},
   "outputs": [],
   "source": [
    "import pandas as pd\n",
    "import numpy as np"
   ]
  },
  {
   "cell_type": "code",
   "execution_count": 2,
   "id": "8b135c2b",
   "metadata": {},
   "outputs": [],
   "source": [
    "from sklearn.feature_extraction import DictVectorizer\n",
    "from sklearn.linear_model import LinearRegression\n",
    "from sklearn.metrics import mean_squared_error"
   ]
  },
  {
   "cell_type": "code",
   "execution_count": 3,
   "id": "77610c71",
   "metadata": {},
   "outputs": [],
   "source": [
    "features_ = ['PULocationID', 'DOLocationID']\n",
    "target = 'duration'\n",
    "\n",
    "def load_preprocess_data(data_path):\n",
    "    # Read the parquet File\n",
    "    df_ = pd.read_parquet(data_path)\n",
    "    # Create the duration variable\n",
    "    df_['duration'] = df_.tpep_dropoff_datetime - df_.tpep_pickup_datetime\n",
    "    #convert duration to minutes\n",
    "    df_.duration = df_.duration.apply(lambda td: td.total_seconds() / 60)\n",
    "    # Filter the dataframe wrt to duration time limits\n",
    "    df_ = df_[(df_['duration'] <=60) & (df_['duration'] >=1)]    \n",
    "    df_[features_] = df_[features_].astype(str)\n",
    "    # create the X values in dictonary form\n",
    "    X_ = df_[features_].to_dict(orient='records')\n",
    "    # create the Y values\n",
    "    y_ = df_[target].values\n",
    "\n",
    "    return X_, y_"
   ]
  },
  {
   "attachments": {},
   "cell_type": "markdown",
   "id": "055b7a62",
   "metadata": {},
   "source": [
    "### Q1. Downloading the data\n",
    "Read the data for January. How many columns are there?"
   ]
  },
  {
   "cell_type": "code",
   "execution_count": 4,
   "id": "5c98fbbe",
   "metadata": {},
   "outputs": [
    {
     "data": {
      "text/plain": [
       "19"
      ]
     },
     "execution_count": 4,
     "metadata": {},
     "output_type": "execute_result"
    }
   ],
   "source": [
    "df = pd.read_parquet('data/yellow_tripdata_2022-01.parquet')\n",
    "len(df.columns)"
   ]
  },
  {
   "attachments": {},
   "cell_type": "markdown",
   "id": "42321612",
   "metadata": {},
   "source": [
    "### Q2. Computing duration\n",
    "What's the standard deviation of the trips duration in January?"
   ]
  },
  {
   "cell_type": "code",
   "execution_count": 5,
   "id": "e0efc6aa",
   "metadata": {},
   "outputs": [
    {
     "data": {
      "text/plain": [
       "46.45"
      ]
     },
     "execution_count": 5,
     "metadata": {},
     "output_type": "execute_result"
    }
   ],
   "source": [
    "df['duration'] = df.tpep_dropoff_datetime - df.tpep_pickup_datetime\n",
    "df.duration = df.duration.apply(lambda td: td.total_seconds() / 60)\n",
    "np.round(df['duration'].std(), 2)"
   ]
  },
  {
   "attachments": {},
   "cell_type": "markdown",
   "id": "6714c169",
   "metadata": {},
   "source": [
    "### Q3. Dropping outliers\n",
    "What fraction of the records left after you dropped the outliers?"
   ]
  },
  {
   "cell_type": "code",
   "execution_count": 6,
   "id": "e15dfc6c",
   "metadata": {},
   "outputs": [
    {
     "data": {
      "text/plain": [
       "0.9827547930522406"
      ]
     },
     "execution_count": 6,
     "metadata": {},
     "output_type": "execute_result"
    }
   ],
   "source": [
    "len(df[(df['duration'] <=60) & (df['duration'] >=1)])/len(df)"
   ]
  },
  {
   "attachments": {},
   "cell_type": "markdown",
   "id": "64a88835",
   "metadata": {},
   "source": [
    "### Q4. One-hot encoding\n",
    "What's the dimensionality of this matrix (number of columns)?"
   ]
  },
  {
   "cell_type": "code",
   "execution_count": 7,
   "id": "30f7f3db",
   "metadata": {},
   "outputs": [
    {
     "data": {
      "text/plain": [
       "(2421440, 515)"
      ]
     },
     "execution_count": 7,
     "metadata": {},
     "output_type": "execute_result"
    }
   ],
   "source": [
    "# Filtering data\n",
    "df = df[(df['duration'] <=60) & (df['duration'] >=1)]\n",
    "df[features_] = df[features_].astype(str)\n",
    "X_dict = df[features_].to_dict(orient='records')\n",
    "dv = DictVectorizer()\n",
    "X_train = dv.fit_transform(X_dict)\n",
    "X_train.shape"
   ]
  },
  {
   "attachments": {},
   "cell_type": "markdown",
   "id": "a43353a5",
   "metadata": {},
   "source": [
    "### Q5. Training a model\n",
    "What's the RMSE on train?"
   ]
  },
  {
   "cell_type": "code",
   "execution_count": 8,
   "id": "37623ab0",
   "metadata": {},
   "outputs": [
    {
     "data": {
      "text/plain": [
       "6.986190933162326"
      ]
     },
     "execution_count": 8,
     "metadata": {},
     "output_type": "execute_result"
    }
   ],
   "source": [
    "X_train, y_train = load_preprocess_data('data/yellow_tripdata_2022-01.parquet')\n",
    "\n",
    "dv = DictVectorizer()\n",
    "X_train = dv.fit_transform(X_train)\n",
    "\n",
    "lr = LinearRegression()\n",
    "lr.fit(X_train, y_train)\n",
    "\n",
    "y_pred = lr.predict(X_train)\n",
    "\n",
    "mean_squared_error(y_train, y_pred, squared=False)"
   ]
  },
  {
   "attachments": {},
   "cell_type": "markdown",
   "id": "1c875190",
   "metadata": {},
   "source": [
    "### Q6. Evaluating the model\n",
    "What's the RMSE on validation?"
   ]
  },
  {
   "cell_type": "code",
   "execution_count": 9,
   "id": "e222b033",
   "metadata": {},
   "outputs": [
    {
     "data": {
      "text/plain": [
       "7.786412831235261"
      ]
     },
     "execution_count": 9,
     "metadata": {},
     "output_type": "execute_result"
    }
   ],
   "source": [
    "X_valid, y_valid = load_preprocess_data('data/yellow_tripdata_2022-02.parquet')\n",
    "\n",
    "y_pred_valid = lr.predict(dv.transform(X_valid))\n",
    "\n",
    "mean_squared_error(y_valid, y_pred_valid, squared=False)"
   ]
  },
  {
   "cell_type": "code",
   "execution_count": null,
   "id": "d1b764e6",
   "metadata": {},
   "outputs": [],
   "source": []
  }
 ],
 "metadata": {
  "kernelspec": {
   "display_name": "Python 3 (ipykernel)",
   "language": "python",
   "name": "python3"
  },
  "language_info": {
   "codemirror_mode": {
    "name": "ipython",
    "version": 3
   },
   "file_extension": ".py",
   "mimetype": "text/x-python",
   "name": "python",
   "nbconvert_exporter": "python",
   "pygments_lexer": "ipython3",
   "version": "3.10.9"
  }
 },
 "nbformat": 4,
 "nbformat_minor": 5
}
